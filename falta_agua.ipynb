{
 "cells": [
  {
   "cell_type": "markdown",
   "metadata": {},
   "source": [
    "Código sobre el Análisis de Consumo de Agua en la Ciudad de México "
   ]
  },
  {
   "cell_type": "code",
   "execution_count": 2,
   "metadata": {},
   "outputs": [
    {
     "name": "stdout",
     "output_type": "stream",
     "text": [
      "Requirement already satisfied: geopandas in c:\\users\\quetz\\miniconda3\\lib\\site-packages (0.14.4)\n",
      "Requirement already satisfied: fiona>=1.8.21 in c:\\users\\quetz\\miniconda3\\lib\\site-packages (from geopandas) (1.9.6)\n",
      "Requirement already satisfied: numpy>=1.22 in c:\\users\\quetz\\miniconda3\\lib\\site-packages (from geopandas) (1.26.4)\n",
      "Requirement already satisfied: packaging in c:\\users\\quetz\\miniconda3\\lib\\site-packages (from geopandas) (23.2)\n",
      "Requirement already satisfied: pandas>=1.4.0 in c:\\users\\quetz\\miniconda3\\lib\\site-packages (from geopandas) (2.2.2)\n",
      "Requirement already satisfied: pyproj>=3.3.0 in c:\\users\\quetz\\miniconda3\\lib\\site-packages (from geopandas) (3.6.1)\n",
      "Requirement already satisfied: shapely>=1.8.0 in c:\\users\\quetz\\miniconda3\\lib\\site-packages (from geopandas) (2.0.4)\n",
      "Requirement already satisfied: attrs>=19.2.0 in c:\\users\\quetz\\miniconda3\\lib\\site-packages (from fiona>=1.8.21->geopandas) (23.2.0)\n",
      "Requirement already satisfied: certifi in c:\\users\\quetz\\miniconda3\\lib\\site-packages (from fiona>=1.8.21->geopandas) (2024.2.2)\n",
      "Requirement already satisfied: click~=8.0 in c:\\users\\quetz\\miniconda3\\lib\\site-packages (from fiona>=1.8.21->geopandas) (8.1.7)\n",
      "Requirement already satisfied: click-plugins>=1.0 in c:\\users\\quetz\\miniconda3\\lib\\site-packages (from fiona>=1.8.21->geopandas) (1.1.1)\n",
      "Requirement already satisfied: cligj>=0.5 in c:\\users\\quetz\\miniconda3\\lib\\site-packages (from fiona>=1.8.21->geopandas) (0.7.2)\n",
      "Requirement already satisfied: six in c:\\users\\quetz\\miniconda3\\lib\\site-packages (from fiona>=1.8.21->geopandas) (1.16.0)\n",
      "Requirement already satisfied: python-dateutil>=2.8.2 in c:\\users\\quetz\\miniconda3\\lib\\site-packages (from pandas>=1.4.0->geopandas) (2.9.0)\n",
      "Requirement already satisfied: pytz>=2020.1 in c:\\users\\quetz\\miniconda3\\lib\\site-packages (from pandas>=1.4.0->geopandas) (2024.1)\n",
      "Requirement already satisfied: tzdata>=2022.7 in c:\\users\\quetz\\miniconda3\\lib\\site-packages (from pandas>=1.4.0->geopandas) (2024.1)\n",
      "Requirement already satisfied: colorama in c:\\users\\quetz\\miniconda3\\lib\\site-packages (from click~=8.0->fiona>=1.8.21->geopandas) (0.4.6)\n",
      "Note: you may need to restart the kernel to use updated packages.\n"
     ]
    }
   ],
   "source": [
    "%pip install geopandas"
   ]
  },
  {
   "cell_type": "code",
   "execution_count": 36,
   "metadata": {},
   "outputs": [],
   "source": [
    "# IMPORTAR PAQUETES NECESARIOS\n",
    "import pandas as pd  # Para manipulación y análisis de datos tabulares\n",
    "import requests  # Para realizar solicitudes HTTP a API o sitios web\n",
    "import geopandas as gpd  # Para trabajar con datos geoespaciales (puntos, líneas, polígonos)\n",
    "from shapely.geometry import Point, MultiPoint, Polygon\n",
    "import json  # Para trabajar con datos JSON (formato de intercambio de datos"
   ]
  },
  {
   "cell_type": "code",
   "execution_count": 4,
   "metadata": {},
   "outputs": [
    {
     "name": "stdout",
     "output_type": "stream",
     "text": [
      "<class 'pandas.core.frame.DataFrame'>\n",
      "RangeIndex: 254730 entries, 0 to 254729\n",
      "Data columns (total 10 columns):\n",
      " #   Column                   Non-Null Count   Dtype  \n",
      "---  ------                   --------------   -----  \n",
      " 0   folio                    254730 non-null  object \n",
      " 1   tipo_de_falla            254725 non-null  object \n",
      " 2   quien_atiende            254584 non-null  object \n",
      " 3   latitud                  254730 non-null  float64\n",
      " 4   longitud                 254730 non-null  float64\n",
      " 5   codigo_postal            238976 non-null  float64\n",
      " 6   fecha                    254730 non-null  object \n",
      " 7   colonia_registro_sacmex  253535 non-null  object \n",
      " 8   colonia_datos_abiertos   250610 non-null  object \n",
      " 9   alcaldia                 250610 non-null  object \n",
      "dtypes: float64(3), object(7)\n",
      "memory usage: 19.4+ MB\n"
     ]
    }
   ],
   "source": [
    "# Consumo de agua \n",
    "agua = 'https://datos.cdmx.gob.mx/dataset/57ffc13a-7207-4b69-a9a9-2fef3fce6331/resource/65a6b1a6-5d6e-49b9-aeed-ca7b22e8de03/download/reportes_agua_hist.csv'\n",
    "agua = pd.read_csv(agua)\n",
    "agua.info()"
   ]
  },
  {
   "cell_type": "code",
   "execution_count": 5,
   "metadata": {},
   "outputs": [],
   "source": [
    "#Diccionario con los nombres de acaldías y su clave de municipio\n",
    "alcaldia_d = {\n",
    "    \"AZCAPOTZALCO\": \"002\",\n",
    "    \"COYOACAN\": \"003\",\n",
    "    \"CUAJIMALPA DE MORELOS\": \"004\",\n",
    "    \"GUSTAVO A. MADERO\": \"005\",\n",
    "    \"IZTACALCO\": \"006\",\n",
    "    \"IZTAPALAPA\": \"007\",\n",
    "    \"LA MAGDALENA CONTRERAS\": \"008\",\n",
    "    \"MILPA ALTA\": \"009\",\n",
    "    \"ALVARO OBREGON\": \"010\",\n",
    "    \"TLALPAN\": \"012\",\n",
    "    \"XOCHIMILCO\": \"013\",\n",
    "    \"BENITO JUAREZ\": \"014\",\n",
    "    \"CUAUHTEMOC\": \"015\",\n",
    "    \"MIGUEL HIDALGO\": \"016\",\n",
    "    \"VENUSTIANO CARRANZA\": \"017\",\n",
    "    \"TLAHUAC\": \"011\",\n",
    "}\n",
    "agua[\"cve_mun\"] = agua[\"alcaldia\"].map(alcaldia_d)"
   ]
  },
  {
   "cell_type": "code",
   "execution_count": 6,
   "metadata": {},
   "outputs": [
    {
     "name": "stdout",
     "output_type": "stream",
     "text": [
      "<class 'geopandas.geodataframe.GeoDataFrame'>\n",
      "RangeIndex: 254730 entries, 0 to 254729\n",
      "Data columns (total 13 columns):\n",
      " #   Column                   Non-Null Count   Dtype   \n",
      "---  ------                   --------------   -----   \n",
      " 0   folio                    254730 non-null  object  \n",
      " 1   tipo_de_falla            254725 non-null  object  \n",
      " 2   quien_atiende            254584 non-null  object  \n",
      " 3   latitud                  254730 non-null  float64 \n",
      " 4   longitud                 254730 non-null  float64 \n",
      " 5   codigo_postal            238976 non-null  float64 \n",
      " 6   fecha                    254730 non-null  object  \n",
      " 7   colonia_registro_sacmex  253535 non-null  object  \n",
      " 8   colonia_datos_abiertos   250610 non-null  object  \n",
      " 9   alcaldia                 250610 non-null  object  \n",
      " 10  cve_mun                  250610 non-null  object  \n",
      " 11  geometry                 254730 non-null  geometry\n",
      " 12  geometry_poligono        250610 non-null  geometry\n",
      "dtypes: float64(3), geometry(2), object(8)\n",
      "memory usage: 25.3+ MB\n"
     ]
    }
   ],
   "source": [
    "##Crear cartografía con la longitud y latitud\n",
    "\n",
    "# Crear la columna 'geometry' en el DataFrame original 'agua' con los puntos\n",
    "agua['geometry'] = gpd.points_from_xy(agua['longitud'], agua['latitud'])\n",
    "\n",
    "# Convertir 'agua' en un GeoDataFrame\n",
    "agua = gpd.GeoDataFrame(agua, crs=\"EPSG:4326\")\n",
    "\n",
    "# Crear una función para generar polígonos a partir de los puntos agrupados por alcaldía\n",
    "def crear_poligono(grupo):\n",
    "    puntos = MultiPoint(list(grupo))  # Crear un conjunto de puntos (MultiPoint)\n",
    "    return puntos.convex_hull  # Generar el polígono más simple (Convex Hull)\n",
    "\n",
    "# Crear los polígonos por alcaldía\n",
    "poligonos_por_alcaldia = (\n",
    "    agua.groupby('alcaldia')['geometry']\n",
    "    .apply(lambda x: crear_poligono(x))\n",
    "    .reset_index(name='geometry_poligono')\n",
    ")\n",
    "\n",
    "# Añadir los polígonos al DataFrame original\n",
    "agua = agua.merge(poligonos_por_alcaldia, on='alcaldia', how='left')\n",
    "agua.info() #Revisar las actualizaciones"
   ]
  },
  {
   "cell_type": "code",
   "execution_count": 28,
   "metadata": {},
   "outputs": [
    {
     "name": "stdout",
     "output_type": "stream",
     "text": [
      "Ver las fallas ['Falta de agua' 'Mala calidad' 'Fuga' nan]\n"
     ]
    }
   ],
   "source": [
    "print(\"Ver las fallas\",agua[\"tipo_de_falla\"].unique()) "
   ]
  },
  {
   "cell_type": "code",
   "execution_count": 35,
   "metadata": {},
   "outputs": [
    {
     "data": {
      "text/html": [
       "<div>\n",
       "<style scoped>\n",
       "    .dataframe tbody tr th:only-of-type {\n",
       "        vertical-align: middle;\n",
       "    }\n",
       "\n",
       "    .dataframe tbody tr th {\n",
       "        vertical-align: top;\n",
       "    }\n",
       "\n",
       "    .dataframe thead th {\n",
       "        text-align: right;\n",
       "    }\n",
       "</style>\n",
       "<table border=\"1\" class=\"dataframe\">\n",
       "  <thead>\n",
       "    <tr style=\"text-align: right;\">\n",
       "      <th></th>\n",
       "      <th>tipo_de_falla</th>\n",
       "      <th>alcaldia</th>\n",
       "      <th>numero_folios</th>\n",
       "    </tr>\n",
       "  </thead>\n",
       "  <tbody>\n",
       "    <tr>\n",
       "      <th>2</th>\n",
       "      <td>Falta de agua</td>\n",
       "      <td>BENITO JUAREZ</td>\n",
       "      <td>9241</td>\n",
       "    </tr>\n",
       "    <tr>\n",
       "      <th>3</th>\n",
       "      <td>Falta de agua</td>\n",
       "      <td>COYOACAN</td>\n",
       "      <td>8426</td>\n",
       "    </tr>\n",
       "    <tr>\n",
       "      <th>13</th>\n",
       "      <td>Falta de agua</td>\n",
       "      <td>TLALPAN</td>\n",
       "      <td>7804</td>\n",
       "    </tr>\n",
       "    <tr>\n",
       "      <th>6</th>\n",
       "      <td>Falta de agua</td>\n",
       "      <td>GUSTAVO A. MADERO</td>\n",
       "      <td>7549</td>\n",
       "    </tr>\n",
       "    <tr>\n",
       "      <th>0</th>\n",
       "      <td>Falta de agua</td>\n",
       "      <td>ALVARO OBREGON</td>\n",
       "      <td>5769</td>\n",
       "    </tr>\n",
       "    <tr>\n",
       "      <th>5</th>\n",
       "      <td>Falta de agua</td>\n",
       "      <td>CUAUHTEMOC</td>\n",
       "      <td>4689</td>\n",
       "    </tr>\n",
       "    <tr>\n",
       "      <th>8</th>\n",
       "      <td>Falta de agua</td>\n",
       "      <td>IZTAPALAPA</td>\n",
       "      <td>4450</td>\n",
       "    </tr>\n",
       "    <tr>\n",
       "      <th>1</th>\n",
       "      <td>Falta de agua</td>\n",
       "      <td>AZCAPOTZALCO</td>\n",
       "      <td>3997</td>\n",
       "    </tr>\n",
       "    <tr>\n",
       "      <th>10</th>\n",
       "      <td>Falta de agua</td>\n",
       "      <td>MIGUEL HIDALGO</td>\n",
       "      <td>3867</td>\n",
       "    </tr>\n",
       "    <tr>\n",
       "      <th>12</th>\n",
       "      <td>Falta de agua</td>\n",
       "      <td>TLAHUAC</td>\n",
       "      <td>3035</td>\n",
       "    </tr>\n",
       "    <tr>\n",
       "      <th>15</th>\n",
       "      <td>Falta de agua</td>\n",
       "      <td>XOCHIMILCO</td>\n",
       "      <td>2475</td>\n",
       "    </tr>\n",
       "    <tr>\n",
       "      <th>7</th>\n",
       "      <td>Falta de agua</td>\n",
       "      <td>IZTACALCO</td>\n",
       "      <td>2301</td>\n",
       "    </tr>\n",
       "    <tr>\n",
       "      <th>14</th>\n",
       "      <td>Falta de agua</td>\n",
       "      <td>VENUSTIANO CARRANZA</td>\n",
       "      <td>2038</td>\n",
       "    </tr>\n",
       "    <tr>\n",
       "      <th>9</th>\n",
       "      <td>Falta de agua</td>\n",
       "      <td>LA MAGDALENA CONTRERAS</td>\n",
       "      <td>1459</td>\n",
       "    </tr>\n",
       "    <tr>\n",
       "      <th>4</th>\n",
       "      <td>Falta de agua</td>\n",
       "      <td>CUAJIMALPA DE MORELOS</td>\n",
       "      <td>1105</td>\n",
       "    </tr>\n",
       "    <tr>\n",
       "      <th>11</th>\n",
       "      <td>Falta de agua</td>\n",
       "      <td>MILPA ALTA</td>\n",
       "      <td>140</td>\n",
       "    </tr>\n",
       "  </tbody>\n",
       "</table>\n",
       "</div>"
      ],
      "text/plain": [
       "    tipo_de_falla                alcaldia  numero_folios\n",
       "2   Falta de agua           BENITO JUAREZ           9241\n",
       "3   Falta de agua                COYOACAN           8426\n",
       "13  Falta de agua                 TLALPAN           7804\n",
       "6   Falta de agua       GUSTAVO A. MADERO           7549\n",
       "0   Falta de agua          ALVARO OBREGON           5769\n",
       "5   Falta de agua              CUAUHTEMOC           4689\n",
       "8   Falta de agua              IZTAPALAPA           4450\n",
       "1   Falta de agua            AZCAPOTZALCO           3997\n",
       "10  Falta de agua          MIGUEL HIDALGO           3867\n",
       "12  Falta de agua                 TLAHUAC           3035\n",
       "15  Falta de agua              XOCHIMILCO           2475\n",
       "7   Falta de agua               IZTACALCO           2301\n",
       "14  Falta de agua     VENUSTIANO CARRANZA           2038\n",
       "9   Falta de agua  LA MAGDALENA CONTRERAS           1459\n",
       "4   Falta de agua   CUAJIMALPA DE MORELOS           1105\n",
       "11  Falta de agua              MILPA ALTA            140"
      ]
     },
     "execution_count": 35,
     "metadata": {},
     "output_type": "execute_result"
    }
   ],
   "source": [
    "# Convertir 'fecha' a datetime y extraer el año\n",
    "agua['fecha'] = pd.to_datetime(agua['fecha'], errors='coerce')\n",
    "agua['año'] = agua['fecha'].dt.year\n",
    "\n",
    "# Filtrar para el año 2019 y eliminar filas sin 'alcaldia' ni 'tipo_de_falla'\n",
    "agua_2019 = agua[(agua['año'] == 2019) & (~agua['tipo_de_falla'].isna()) & (~agua['alcaldia'].isna())]\n",
    "\n",
    "# Agrupar por tipo de falla y alcaldía, y contar el número de folios\n",
    "desglose_2019 = agua_2019.groupby(['tipo_de_falla', 'alcaldia']).size().reset_index(name='numero_folios')\n",
    "\n",
    "# Ordenar los resultados para mejor legibilidad\n",
    "desglose_2019 = desglose_2019.sort_values(by=['tipo_de_falla', 'numero_folios'], ascending=[True, False])\n",
    "desglose_2019 \n"
   ]
  }
 ],
 "metadata": {
  "kernelspec": {
   "display_name": "base",
   "language": "python",
   "name": "python3"
  },
  "language_info": {
   "codemirror_mode": {
    "name": "ipython",
    "version": 3
   },
   "file_extension": ".py",
   "mimetype": "text/x-python",
   "name": "python",
   "nbconvert_exporter": "python",
   "pygments_lexer": "ipython3",
   "version": "3.12.3"
  }
 },
 "nbformat": 4,
 "nbformat_minor": 2
}
