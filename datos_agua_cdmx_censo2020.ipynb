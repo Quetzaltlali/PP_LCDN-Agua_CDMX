{
 "cells": [
  {
   "cell_type": "markdown",
   "metadata": {},
   "source": [
    "Descarga, extracción y análisis del cuestionario ampliado Viviendas del Censo 2020 de la Ciudad de México utilizando Winrar para obtener datos del agua en las viviendas"
   ]
  },
  {
   "cell_type": "code",
   "execution_count": 3,
   "metadata": {
    "vscode": {
     "languageId": "r"
    }
   },
   "outputs": [
    {
     "name": "stderr",
     "output_type": "stream",
     "text": [
      "Cargando paquete requerido: pacman\n",
      "\n"
     ]
    }
   ],
   "source": [
    "#Instalar paquetería\n",
    "\n",
    "if(!require('pacman')) install.packages('pacman')\n",
    "pacman::p_load(tidyverse,srvyr, gt, showtext,janitor,sf,httr,jsonlite)\n",
    "font_add_google(\"Poppins\", \"pop\")\n",
    "showtext_auto()"
   ]
  },
  {
   "cell_type": "code",
   "execution_count": 4,
   "metadata": {
    "vscode": {
     "languageId": "r"
    }
   },
   "outputs": [],
   "source": [
    "##Borrar datos del entorno\n",
    "rm(list=ls())"
   ]
  },
  {
   "cell_type": "code",
   "execution_count": 5,
   "metadata": {
    "vscode": {
     "languageId": "r"
    }
   },
   "outputs": [],
   "source": [
    "#Opción para que la descarga no se corte\n",
    "options(timeout=1600)"
   ]
  },
  {
   "cell_type": "code",
   "execution_count": 6,
   "metadata": {
    "vscode": {
     "languageId": "r"
    }
   },
   "outputs": [],
   "source": [
    "#URL del Censo 2020\n",
    "url<-\"https://www.inegi.org.mx/contenidos/programas/ccpv/2020/microdatos/Censo2020_CA_cdmx_csv.zip\""
   ]
  },
  {
   "cell_type": "code",
   "execution_count": 7,
   "metadata": {
    "vscode": {
     "languageId": "r"
    }
   },
   "outputs": [],
   "source": [
    "# Establecer directorio de trabajo y crear carpeta de extracción en \"Mis Documentos\"\n",
    "raiz <- file.path(Sys.getenv(\"USERPROFILE\"), \"Documents\")\n",
    "dir.create(file.path(raiz, \"datoscenso\"), showWarnings = F)\n",
    "directorio <- file.path(raiz, \"datoscenso\")\n",
    "setwd(directorio)"
   ]
  },
  {
   "cell_type": "code",
   "execution_count": 8,
   "metadata": {
    "vscode": {
     "languageId": "r"
    }
   },
   "outputs": [],
   "source": [
    "#Se establece que, si no existe el archivo viviendas, se descargue el zip de la URL de INEGI\n",
    "if (!file.exists(\"Viviendas09.CSV\")){\n",
    "  download.file(url,destfile = \"censo.zip\",quiet = FALSE, mode=\"wb\")\n",
    "  #Usaremos Winrar como opción para extracción\n",
    "  winrar=shQuote(\"C:/Program Files/WinRAR/WinRAR\")\n",
    "  file=\"censo.zip\"\n",
    "  dest=directorio\n",
    "  #Ejecución de la extracción\n",
    "  cmd=paste(winrar, ' e ',file, ' -ir!*.*','\"',dest,'\"',sep='')\n",
    "  system(cmd)\n",
    "  unlink(\"datoscenso/censo.zip\")\n",
    "}"
   ]
  },
  {
   "cell_type": "code",
   "execution_count": 9,
   "metadata": {
    "vscode": {
     "languageId": "r"
    }
   },
   "outputs": [
    {
     "name": "stdout",
     "output_type": "stream",
     "text": [
      "[1] \"C:\\\\Users\\\\quetz/Documents/datoscenso/censo.zip\"      \n",
      "[2] \"C:\\\\Users\\\\quetz/Documents/datoscenso/Migrantes09.CSV\"\n",
      "[3] \"C:\\\\Users\\\\quetz/Documents/datoscenso/Personas09.CSV\" \n",
      "[4] \"C:\\\\Users\\\\quetz/Documents/datoscenso/Viviendas09.CSV\"\n"
     ]
    }
   ],
   "source": [
    "# Listar todos los archivos y carpetas dentro del directorio de \"datoscenso\"\n",
    "contenido <- list.files(path = directorio, recursive = TRUE, full.names = TRUE)\n",
    "\n",
    "# Mostrar el contenido\n",
    "print(contenido)\n"
   ]
  },
  {
   "cell_type": "code",
   "execution_count": 10,
   "metadata": {
    "vscode": {
     "languageId": "r"
    }
   },
   "outputs": [],
   "source": [
    "# Abrir el archivo \"Viviendas09.CSV\"\n",
    "archivo_viviendas <- file.path(directorio, \"Viviendas09.CSV\")"
   ]
  },
  {
   "cell_type": "code",
   "execution_count": 11,
   "metadata": {
    "vscode": {
     "languageId": "r"
    }
   },
   "outputs": [
    {
     "name": "stdout",
     "output_type": "stream",
     "text": [
      "  ENT MUN LOC50K    ID_VIV COBERTURA        ESTRATO UPM FACTOR CLAVIVP PAREDES\n",
      "1   9   2      1 9.002e+10         2 09-002-0001-00   1     27       1       8\n",
      "2   9   2      1 9.002e+10         2 09-002-0001-00   1     27       1       8\n",
      "3   9   2      1 9.002e+10         2 09-002-0001-00   1     27       1       8\n",
      "4   9   2      1 9.002e+10         2 09-002-0001-00   1     27       1       8\n",
      "5   9   2      1 9.002e+10         2 09-002-0001-00   1     27       1       8\n",
      "6   9   2      1 9.002e+10         2 09-002-0001-00   1     27       1       8\n",
      "  TECHOS PISOS COCINA CUADORM TOTCUART LUG_COC COMBUSTIBLE ESTUFA ELECTRICIDAD\n",
      "1     10     3      1       3        4       1           2     NA            1\n",
      "2     10     3      1       5       10       1           2     NA            1\n",
      "3     10     3      1       4        7       1           2     NA            1\n",
      "4     10     2      1       3        4       1           2     NA            1\n",
      "5     10     2      1       4        5       1           2     NA            1\n",
      "6     10     2      1       4        4       1           2     NA            1\n",
      "  FOCOS FOCOS_AHORRA AGUA_ENTUBADA ABA_AGUA_ENTU ABA_AGUA_NO_ENTU TINACO\n",
      "1     8            8             1             1               NA      1\n",
      "2    25           25             1             1               NA      1\n",
      "3    13           13             1             1               NA      1\n",
      "4    14           14             1             1               NA      1\n",
      "5     8            8             1             1               NA      1\n",
      "6     8            8             1             1               NA      2\n",
      "  CISTERNA BOMBA_AGUA REGADERA BOILER CALENTADOR_SOLAR AIRE_ACON PANEL_SOLAR\n",
      "1        4          6        7      1                3         6           8\n",
      "2        4          5        7      1                4         6           8\n",
      "3        4          6        7      1                4         6           8\n",
      "4        3          5        7      1                4         6           8\n",
      "5        4          6        7      1                4         6           8\n",
      "6        4          6        7      1                4         6           7\n",
      "  SERSAN CONAGUA USOEXC DRENAJE SEPARACION1 SEPARACION2 SEPARACION3 SEPARACION4\n",
      "1      1       1      3       1           1           3           5           8\n",
      "2      1       1      3       1           1           3           5           7\n",
      "3      1       1      3       1           2           4           6           8\n",
      "4      1       1      3       1           1           4           6           8\n",
      "5      1       1      3       1           1           3           5           8\n",
      "6      1       1      3       1           1           3           6           8\n",
      "  DESTINO_BAS REFRIGERADOR LAVADORA HORNO AUTOPROP MOTOCICLETA BICICLETA RADIO\n",
      "1           1            1        3     5        7           2         4     6\n",
      "2           1            1        3     5        7           2         3     5\n",
      "3           1            1        3     5        7           2         4     5\n",
      "4           1            1        3     5        8           2         4     5\n",
      "5           1            1        3     5        7           2         4     5\n",
      "6           1            1        3     5        8           2         4     5\n",
      "  TELEVISOR COMPUTADORA TELEFONO CELULAR INTERNET SERV_TV_PAGA SERV_PEL_PAGA\n",
      "1         7           1        3       5        7            2             4\n",
      "2         7           1        4       5        7            1             3\n",
      "3         7           1        3       5        7            1             3\n",
      "4         7           2        3       5        7            2             4\n",
      "5         7           1        3       5        7            1             4\n",
      "6         7           2        3       5        7            2             4\n",
      "  CON_VJUEGOS TENENCIA ESCRITURAS FORMA_ADQUI FINANCIAMIENTO1 FINANCIAMIENTO2\n",
      "1           6        1          1           1               8              NA\n",
      "2           5        1          1           4              NA              NA\n",
      "3           6        1          1           1               1              NA\n",
      "4           6        3         NA          NA              NA              NA\n",
      "5           6        3         NA          NA              NA              NA\n",
      "6           6        1          1           5              NA              NA\n",
      "  FINANCIAMIENTO3 DEUDA NUMPERS DUE1_NUM DUE2_NUM MCONMIG MNUMPERS\n",
      "1              NA    NA       8        1       NA       3       NA\n",
      "2              NA    NA       6        2       NA       3       NA\n",
      "3              NA     1       4        1       NA       3       NA\n",
      "4              NA    NA       4       NA       NA       3       NA\n",
      "5              NA    NA       6       NA       NA       3       NA\n",
      "6              NA    NA       5       99       NA       3       NA\n",
      "  INGR_PEROTROPAIS INGR_PERDENTPAIS INGR_AYUGOB INGR_JUBPEN ALIMENTACION\n",
      "1                2                4           5           7            3\n",
      "2                2                4           5           7            3\n",
      "3                1                4           5           7            3\n",
      "4                2                4           6           7            3\n",
      "5                2                4           5           7            3\n",
      "6                2                4           5           8            3\n",
      "  ALIM_ADL1 ALIM_ADL2 ING_ALIM_ADL1 ING_ALIM_ADL2 ING_ALIM_ADL3 TIPOHOG\n",
      "1         2         4             2             4             6       2\n",
      "2         2         4             2             4             6       2\n",
      "3         2         4             2             4             6       2\n",
      "4         2         4             2             4             6       2\n",
      "5         2         4             2             4             6       2\n",
      "6         2         4             2             4             6       2\n",
      "  INGTRHOG JEFE_SEXO JEFE_EDAD TAMLOC\n",
      "1    58050         3        72      5\n",
      "2    80500         1        57      5\n",
      "3       NA         3        74      5\n",
      "4        0         3        56      5\n",
      "5        0         3        80      5\n",
      "6        0         1        51      5\n"
     ]
    }
   ],
   "source": [
    "# Verificar si el archivo existe antes de intentar abrirlo\n",
    "if (file.exists(archivo_viviendas)) {\n",
    "  # Leer el archivo CSV\n",
    "  viviendas <- read.csv(archivo_viviendas, header = TRUE, sep = \",\", stringsAsFactors = FALSE)\n",
    "  \n",
    "  # Mostrar las primeras filas del archivo para verificar la carga\n",
    "  print(head(viviendas))\n",
    "} else {\n",
    "  cat(\"El archivo Viviendas09.CSV no se encuentra en el directorio.\")\n",
    "  \n",
    "}\n"
   ]
  },
  {
   "cell_type": "code",
   "execution_count": 12,
   "metadata": {
    "vscode": {
     "languageId": "r"
    }
   },
   "outputs": [],
   "source": [
    "# Definir diseño muestral con nest=TRUE\n",
    "dm <- viviendas %>%\n",
    "  as_survey(weights = FACTOR, strata = ESTRATO, ids = UPM, nest = TRUE)"
   ]
  },
  {
   "cell_type": "code",
   "execution_count": 13,
   "metadata": {
    "vscode": {
     "languageId": "r"
    }
   },
   "outputs": [],
   "source": [
    "# Evitar notación científica y mostrar números con dos decimales\n",
    "options(scipen = 999, digits = 2)"
   ]
  },
  {
   "cell_type": "code",
   "execution_count": 15,
   "metadata": {
    "vscode": {
     "languageId": "r"
    }
   },
   "outputs": [
    {
     "name": "stdout",
     "output_type": "stream",
     "text": [
      "[1] \"Total de viviendas particulares habitadas en la Ciudad de México\"\n"
     ]
    },
    {
     "data": {
      "text/html": [
       "<table class=\"dataframe\">\n",
       "<caption>A tibble: 1 × 2</caption>\n",
       "<thead>\n",
       "\t<tr><th scope=col>viviendas</th><th scope=col>viviendas_se</th></tr>\n",
       "\t<tr><th scope=col>&lt;dbl&gt;</th><th scope=col>&lt;dbl&gt;</th></tr>\n",
       "</thead>\n",
       "<tbody>\n",
       "\t<tr><td>2720459</td><td>76433</td></tr>\n",
       "</tbody>\n",
       "</table>\n"
      ],
      "text/latex": [
       "A tibble: 1 × 2\n",
       "\\begin{tabular}{ll}\n",
       " viviendas & viviendas\\_se\\\\\n",
       " <dbl> & <dbl>\\\\\n",
       "\\hline\n",
       "\t 2720459 & 76433\\\\\n",
       "\\end{tabular}\n"
      ],
      "text/markdown": [
       "\n",
       "A tibble: 1 × 2\n",
       "\n",
       "| viviendas &lt;dbl&gt; | viviendas_se &lt;dbl&gt; |\n",
       "|---|---|\n",
       "| 2720459 | 76433 |\n",
       "\n"
      ],
      "text/plain": [
       "  viviendas viviendas_se\n",
       "1 2720459   76433       "
      ]
     },
     "metadata": {},
     "output_type": "display_data"
    }
   ],
   "source": [
    "###--- Calcular el total de Viviendas en la Ciudad de México\n",
    "print(\"Total de viviendas particulares habitadas en la Ciudad de México\")\n",
    "dm%>%\n",
    "  summarise(viviendas=survey_total())"
   ]
  },
  {
   "cell_type": "code",
   "execution_count": 23,
   "metadata": {
    "vscode": {
     "languageId": "r"
    }
   },
   "outputs": [
    {
     "data": {
      "text/html": [
       "<table class=\"dataframe\">\n",
       "<caption>A tabyl: 6 × 5</caption>\n",
       "<thead>\n",
       "\t<tr><th scope=col>AGUA_ENTUBADA</th><th scope=col>viviendas</th><th scope=col>viviendas_se</th><th scope=col>pct</th><th scope=col>pct_se</th></tr>\n",
       "\t<tr><th scope=col>&lt;chr&gt;</th><th scope=col>&lt;dbl&gt;</th><th scope=col>&lt;dbl&gt;</th><th scope=col>&lt;dbl&gt;</th><th scope=col>&lt;dbl&gt;</th></tr>\n",
       "</thead>\n",
       "<tbody>\n",
       "\t<tr><td>Dentro de la Vivienda     </td><td>2.44129</td><td>0.07211</td><td>0.89738</td><td>0.00524</td></tr>\n",
       "\t<tr><td>No contestó               </td><td>0.01008</td><td>0.00194</td><td>0.00371</td><td>0.00071</td></tr>\n",
       "\t<tr><td>No especificó             </td><td>0.00051</td><td>0.00029</td><td>0.00019</td><td>0.00011</td></tr>\n",
       "\t<tr><td>No tienen agua entubada   </td><td>0.02406</td><td>0.00329</td><td>0.00884</td><td>0.00121</td></tr>\n",
       "\t<tr><td>Sólo en el patio o terreno</td><td>0.24452</td><td>0.01452</td><td>0.08988</td><td>0.00500</td></tr>\n",
       "\t<tr><td>Total                     </td><td>2.72046</td><td>0.09214</td><td>1.00000</td><td>0.01227</td></tr>\n",
       "</tbody>\n",
       "</table>\n"
      ],
      "text/latex": [
       "A tabyl: 6 × 5\n",
       "\\begin{tabular}{lllll}\n",
       " AGUA\\_ENTUBADA & viviendas & viviendas\\_se & pct & pct\\_se\\\\\n",
       " <chr> & <dbl> & <dbl> & <dbl> & <dbl>\\\\\n",
       "\\hline\n",
       "\t Dentro de la Vivienda      & 2.44129 & 0.07211 & 0.89738 & 0.00524\\\\\n",
       "\t No contestó                & 0.01008 & 0.00194 & 0.00371 & 0.00071\\\\\n",
       "\t No especificó              & 0.00051 & 0.00029 & 0.00019 & 0.00011\\\\\n",
       "\t No tienen agua entubada    & 0.02406 & 0.00329 & 0.00884 & 0.00121\\\\\n",
       "\t Sólo en el patio o terreno & 0.24452 & 0.01452 & 0.08988 & 0.00500\\\\\n",
       "\t Total                      & 2.72046 & 0.09214 & 1.00000 & 0.01227\\\\\n",
       "\\end{tabular}\n"
      ],
      "text/markdown": [
       "\n",
       "A tabyl: 6 × 5\n",
       "\n",
       "| AGUA_ENTUBADA &lt;chr&gt; | viviendas &lt;dbl&gt; | viviendas_se &lt;dbl&gt; | pct &lt;dbl&gt; | pct_se &lt;dbl&gt; |\n",
       "|---|---|---|---|---|\n",
       "| Dentro de la Vivienda      | 2.44129 | 0.07211 | 0.89738 | 0.00524 |\n",
       "| No contestó                | 0.01008 | 0.00194 | 0.00371 | 0.00071 |\n",
       "| No especificó              | 0.00051 | 0.00029 | 0.00019 | 0.00011 |\n",
       "| No tienen agua entubada    | 0.02406 | 0.00329 | 0.00884 | 0.00121 |\n",
       "| Sólo en el patio o terreno | 0.24452 | 0.01452 | 0.08988 | 0.00500 |\n",
       "| Total                      | 2.72046 | 0.09214 | 1.00000 | 0.01227 |\n",
       "\n"
      ],
      "text/plain": [
       "  AGUA_ENTUBADA              viviendas viviendas_se pct     pct_se \n",
       "1 Dentro de la Vivienda      2.44129   0.07211      0.89738 0.00524\n",
       "2 No contestó                0.01008   0.00194      0.00371 0.00071\n",
       "3 No especificó              0.00051   0.00029      0.00019 0.00011\n",
       "4 No tienen agua entubada    0.02406   0.00329      0.00884 0.00121\n",
       "5 Sólo en el patio o terreno 0.24452   0.01452      0.08988 0.00500\n",
       "6 Total                      2.72046   0.09214      1.00000 0.01227"
      ]
     },
     "metadata": {},
     "output_type": "display_data"
    },
    {
     "name": "stdout",
     "output_type": "stream",
     "text": [
      "[1] \"El 89.73% de las viviendas de la Ciudad de México tienen agua entubada por dentro de ellas\"\n"
     ]
    }
   ],
   "source": [
    "# Pregunta del censo: AGUA_ENTUBADA\n",
    "\n",
    "\n",
    "#¿El agua la obtienen de llaves o mangueras que están: dentro de la vivienda?\n",
    "#sólo en el patio o terreno? ¿No tienen agua entubada?\n",
    "\n",
    "dm %>%\n",
    "  mutate(AGUA_ENTUBADA = case_when(\n",
    "    AGUA_ENTUBADA == 1 ~ \"Dentro de la Vivienda\",\n",
    "    AGUA_ENTUBADA == 2 ~ \"Sólo en el patio o terreno\",\n",
    "    AGUA_ENTUBADA == 3 ~ \"No tienen agua entubada\",\n",
    "    is.na(AGUA_ENTUBADA) ~ \"No contestó\",  # Corregido\n",
    "    AGUA_ENTUBADA == 9 ~ \"No especificó\"\n",
    "  )) %>%\n",
    "  group_by(AGUA_ENTUBADA) %>%\n",
    "  summarise(viviendas = survey_total() / 1000000,\n",
    "            pct = survey_prop()) %>%\n",
    "  janitor::adorn_totals()\n",
    "\n",
    "print(\"El 89.73% de las viviendas de la Ciudad de México tienen agua entubada por dentro de ellas\")\n",
    "\n"
   ]
  },
  {
   "cell_type": "code",
   "execution_count": 31,
   "metadata": {
    "vscode": {
     "languageId": "r"
    }
   },
   "outputs": [
    {
     "data": {
      "text/html": [
       "<table class=\"dataframe\">\n",
       "<caption>A tabyl: 9 × 5</caption>\n",
       "<thead>\n",
       "\t<tr><th scope=col>ABA_AGUA_ENTU</th><th scope=col>viviendas</th><th scope=col>viviendas_se</th><th scope=col>pct</th><th scope=col>pct_se</th></tr>\n",
       "\t<tr><th scope=col>&lt;chr&gt;</th><th scope=col>&lt;dbl&gt;</th><th scope=col>&lt;dbl&gt;</th><th scope=col>&lt;dbl&gt;</th><th scope=col>&lt;dbl&gt;</th></tr>\n",
       "</thead>\n",
       "<tbody>\n",
       "\t<tr><td>De la lluvia                </td><td>0.00075</td><td>0.00044</td><td>0.00027</td><td>0.00016</td></tr>\n",
       "\t<tr><td>De otra vivienda            </td><td>0.00395</td><td>0.00064</td><td>0.00145</td><td>0.00023</td></tr>\n",
       "\t<tr><td>De un pozo comunitario      </td><td>0.01626</td><td>0.00345</td><td>0.00598</td><td>0.00127</td></tr>\n",
       "\t<tr><td>De un pozo particular       </td><td>0.00132</td><td>0.00037</td><td>0.00048</td><td>0.00014</td></tr>\n",
       "\t<tr><td>De una pipa                 </td><td>0.04812</td><td>0.00824</td><td>0.01769</td><td>0.00297</td></tr>\n",
       "\t<tr><td>Del servicio público de agua</td><td>2.61373</td><td>0.07481</td><td>0.96077</td><td>0.00385</td></tr>\n",
       "\t<tr><td>No especificó               </td><td>0.00168</td><td>0.00036</td><td>0.00062</td><td>0.00013</td></tr>\n",
       "\t<tr><td>NA                          </td><td>0.03465</td><td>0.00383</td><td>0.01274</td><td>0.00142</td></tr>\n",
       "\t<tr><td>Total                       </td><td>2.72046</td><td>0.09215</td><td>1.00000</td><td>0.01017</td></tr>\n",
       "</tbody>\n",
       "</table>\n"
      ],
      "text/latex": [
       "A tabyl: 9 × 5\n",
       "\\begin{tabular}{lllll}\n",
       " ABA\\_AGUA\\_ENTU & viviendas & viviendas\\_se & pct & pct\\_se\\\\\n",
       " <chr> & <dbl> & <dbl> & <dbl> & <dbl>\\\\\n",
       "\\hline\n",
       "\t De la lluvia                 & 0.00075 & 0.00044 & 0.00027 & 0.00016\\\\\n",
       "\t De otra vivienda             & 0.00395 & 0.00064 & 0.00145 & 0.00023\\\\\n",
       "\t De un pozo comunitario       & 0.01626 & 0.00345 & 0.00598 & 0.00127\\\\\n",
       "\t De un pozo particular        & 0.00132 & 0.00037 & 0.00048 & 0.00014\\\\\n",
       "\t De una pipa                  & 0.04812 & 0.00824 & 0.01769 & 0.00297\\\\\n",
       "\t Del servicio público de agua & 2.61373 & 0.07481 & 0.96077 & 0.00385\\\\\n",
       "\t No especificó                & 0.00168 & 0.00036 & 0.00062 & 0.00013\\\\\n",
       "\t NA                           & 0.03465 & 0.00383 & 0.01274 & 0.00142\\\\\n",
       "\t Total                        & 2.72046 & 0.09215 & 1.00000 & 0.01017\\\\\n",
       "\\end{tabular}\n"
      ],
      "text/markdown": [
       "\n",
       "A tabyl: 9 × 5\n",
       "\n",
       "| ABA_AGUA_ENTU &lt;chr&gt; | viviendas &lt;dbl&gt; | viviendas_se &lt;dbl&gt; | pct &lt;dbl&gt; | pct_se &lt;dbl&gt; |\n",
       "|---|---|---|---|---|\n",
       "| De la lluvia                 | 0.00075 | 0.00044 | 0.00027 | 0.00016 |\n",
       "| De otra vivienda             | 0.00395 | 0.00064 | 0.00145 | 0.00023 |\n",
       "| De un pozo comunitario       | 0.01626 | 0.00345 | 0.00598 | 0.00127 |\n",
       "| De un pozo particular        | 0.00132 | 0.00037 | 0.00048 | 0.00014 |\n",
       "| De una pipa                  | 0.04812 | 0.00824 | 0.01769 | 0.00297 |\n",
       "| Del servicio público de agua | 2.61373 | 0.07481 | 0.96077 | 0.00385 |\n",
       "| No especificó                | 0.00168 | 0.00036 | 0.00062 | 0.00013 |\n",
       "| NA                           | 0.03465 | 0.00383 | 0.01274 | 0.00142 |\n",
       "| Total                        | 2.72046 | 0.09215 | 1.00000 | 0.01017 |\n",
       "\n"
      ],
      "text/plain": [
       "  ABA_AGUA_ENTU                viviendas viviendas_se pct     pct_se \n",
       "1 De la lluvia                 0.00075   0.00044      0.00027 0.00016\n",
       "2 De otra vivienda             0.00395   0.00064      0.00145 0.00023\n",
       "3 De un pozo comunitario       0.01626   0.00345      0.00598 0.00127\n",
       "4 De un pozo particular        0.00132   0.00037      0.00048 0.00014\n",
       "5 De una pipa                  0.04812   0.00824      0.01769 0.00297\n",
       "6 Del servicio público de agua 2.61373   0.07481      0.96077 0.00385\n",
       "7 No especificó                0.00168   0.00036      0.00062 0.00013\n",
       "8 NA                           0.03465   0.00383      0.01274 0.00142\n",
       "9 Total                        2.72046   0.09215      1.00000 0.01017"
      ]
     },
     "metadata": {},
     "output_type": "display_data"
    },
    {
     "name": "stdout",
     "output_type": "stream",
     "text": [
      "[1] \"El 96.07% de las viviendas de la Ciudad de México tienen agua entubada del servicio público del agua\"\n"
     ]
    }
   ],
   "source": [
    "# Pregunta del censo: ABA_AGUA_ENTU\n",
    "\n",
    "#¿El agua que usan en su vivienda proviene: del servicio público de agua? \n",
    "#de un pozo comunitario? de un pozo particular? de una pipa? de otra vivienda? de la lluvia? de otro lugar?\n",
    "\n",
    "dm%>%\n",
    "  mutate(ABA_AGUA_ENTU=case_when(\n",
    "    ABA_AGUA_ENTU==1 ~ \"Del servicio público de agua\",\n",
    "    ABA_AGUA_ENTU==2 ~ \"De un pozo comunitario\",\n",
    "    ABA_AGUA_ENTU==3 ~ \"De un pozo particular\",\n",
    "    ABA_AGUA_ENTU==4 ~ \"De una pipa\",\n",
    "    ABA_AGUA_ENTU==5 ~ \"De otra vivienda\",\n",
    "    ABA_AGUA_ENTU==6 ~ \"De la lluvia\",\n",
    "    ABA_AGUA_ENTU==7 ~ \"De otra vivienda\",\n",
    "    ABA_AGUA_ENTU==9 ~ \"No especificó\",))%>%\n",
    "  group_by(ABA_AGUA_ENTU)%>%\n",
    "  summarise(viviendas=survey_total()/1000000,\n",
    "            pct=survey_prop()) %>%\n",
    "  janitor::adorn_totals()\n",
    "\n",
    "print(\"El 96.07% de las viviendas de la Ciudad de México tienen agua entubada del servicio público del agua\")"
   ]
  },
  {
   "cell_type": "code",
   "execution_count": 32,
   "metadata": {
    "vscode": {
     "languageId": "r"
    }
   },
   "outputs": [
    {
     "data": {
      "text/html": [
       "<table class=\"dataframe\">\n",
       "<caption>A tabyl: 8 × 5</caption>\n",
       "<thead>\n",
       "\t<tr><th scope=col>ABA_AGUA_NO_ENTU</th><th scope=col>viviendas</th><th scope=col>viviendas_se</th><th scope=col>pct</th><th scope=col>pct_se</th></tr>\n",
       "\t<tr><th scope=col>&lt;chr&gt;</th><th scope=col>&lt;dbl&gt;</th><th scope=col>&lt;dbl&gt;</th><th scope=col>&lt;dbl&gt;</th><th scope=col>&lt;dbl&gt;</th></tr>\n",
       "</thead>\n",
       "<tbody>\n",
       "\t<tr><td>La captan de la lluvia</td><td>0.00022</td><td>0.000080</td><td>0.000081</td><td>0.000029</td></tr>\n",
       "\t<tr><td>La trae una pipa      </td><td>0.01605</td><td>0.002820</td><td>0.005900</td><td>0.001042</td></tr>\n",
       "\t<tr><td>Otra vivienda         </td><td>0.00222</td><td>0.000327</td><td>0.000816</td><td>0.000118</td></tr>\n",
       "\t<tr><td>Un pozo               </td><td>0.00206</td><td>0.000701</td><td>0.000757</td><td>0.000258</td></tr>\n",
       "\t<tr><td>Un río, arroyo o lago </td><td>0.00015</td><td>0.000098</td><td>0.000057</td><td>0.000036</td></tr>\n",
       "\t<tr><td>Una llave comunitariao</td><td>0.00335</td><td>0.000697</td><td>0.001231</td><td>0.000257</td></tr>\n",
       "\t<tr><td>NA                    </td><td>2.69640</td><td>0.076240</td><td>0.991157</td><td>0.001213</td></tr>\n",
       "\t<tr><td>Total                 </td><td>2.72046</td><td>0.080964</td><td>1.000000</td><td>0.002953</td></tr>\n",
       "</tbody>\n",
       "</table>\n"
      ],
      "text/latex": [
       "A tabyl: 8 × 5\n",
       "\\begin{tabular}{lllll}\n",
       " ABA\\_AGUA\\_NO\\_ENTU & viviendas & viviendas\\_se & pct & pct\\_se\\\\\n",
       " <chr> & <dbl> & <dbl> & <dbl> & <dbl>\\\\\n",
       "\\hline\n",
       "\t La captan de la lluvia & 0.00022 & 0.000080 & 0.000081 & 0.000029\\\\\n",
       "\t La trae una pipa       & 0.01605 & 0.002820 & 0.005900 & 0.001042\\\\\n",
       "\t Otra vivienda          & 0.00222 & 0.000327 & 0.000816 & 0.000118\\\\\n",
       "\t Un pozo                & 0.00206 & 0.000701 & 0.000757 & 0.000258\\\\\n",
       "\t Un río, arroyo o lago  & 0.00015 & 0.000098 & 0.000057 & 0.000036\\\\\n",
       "\t Una llave comunitariao & 0.00335 & 0.000697 & 0.001231 & 0.000257\\\\\n",
       "\t NA                     & 2.69640 & 0.076240 & 0.991157 & 0.001213\\\\\n",
       "\t Total                  & 2.72046 & 0.080964 & 1.000000 & 0.002953\\\\\n",
       "\\end{tabular}\n"
      ],
      "text/markdown": [
       "\n",
       "A tabyl: 8 × 5\n",
       "\n",
       "| ABA_AGUA_NO_ENTU &lt;chr&gt; | viviendas &lt;dbl&gt; | viviendas_se &lt;dbl&gt; | pct &lt;dbl&gt; | pct_se &lt;dbl&gt; |\n",
       "|---|---|---|---|---|\n",
       "| La captan de la lluvia | 0.00022 | 0.000080 | 0.000081 | 0.000029 |\n",
       "| La trae una pipa       | 0.01605 | 0.002820 | 0.005900 | 0.001042 |\n",
       "| Otra vivienda          | 0.00222 | 0.000327 | 0.000816 | 0.000118 |\n",
       "| Un pozo                | 0.00206 | 0.000701 | 0.000757 | 0.000258 |\n",
       "| Un río, arroyo o lago  | 0.00015 | 0.000098 | 0.000057 | 0.000036 |\n",
       "| Una llave comunitariao | 0.00335 | 0.000697 | 0.001231 | 0.000257 |\n",
       "| NA                     | 2.69640 | 0.076240 | 0.991157 | 0.001213 |\n",
       "| Total                  | 2.72046 | 0.080964 | 1.000000 | 0.002953 |\n",
       "\n"
      ],
      "text/plain": [
       "  ABA_AGUA_NO_ENTU       viviendas viviendas_se pct      pct_se  \n",
       "1 La captan de la lluvia 0.00022   0.000080     0.000081 0.000029\n",
       "2 La trae una pipa       0.01605   0.002820     0.005900 0.001042\n",
       "3 Otra vivienda          0.00222   0.000327     0.000816 0.000118\n",
       "4 Un pozo                0.00206   0.000701     0.000757 0.000258\n",
       "5 Un río, arroyo o lago  0.00015   0.000098     0.000057 0.000036\n",
       "6 Una llave comunitariao 0.00335   0.000697     0.001231 0.000257\n",
       "7 NA                     2.69640   0.076240     0.991157 0.001213\n",
       "8 Total                  2.72046   0.080964     1.000000 0.002953"
      ]
     },
     "metadata": {},
     "output_type": "display_data"
    }
   ],
   "source": [
    "# Pregunta del censo: ABA_AGUA_NO_ENTU\n",
    "\n",
    "#Entonces, ¿acarrean el agua de: un pozo? una llave comunitaria? otra vivienda? \n",
    "#un río, arroyo o lago? ¿La trae una pipa? ¿La captan de la lluvia?\n",
    "\n",
    "dm%>%\n",
    "  mutate(ABA_AGUA_NO_ENTU=case_when(\n",
    "    ABA_AGUA_NO_ENTU==1 ~ \"Un pozo\",\n",
    "    ABA_AGUA_NO_ENTU==2 ~ \"Una llave comunitariao\",\n",
    "    ABA_AGUA_NO_ENTU==3 ~ \"Otra vivienda\",\n",
    "    ABA_AGUA_NO_ENTU==4 ~ \"Un río, arroyo o lago\",\n",
    "    ABA_AGUA_NO_ENTU==5 ~ \"La trae una pipa\",\n",
    "    ABA_AGUA_NO_ENTU==6 ~ \"La captan de la lluvia\",\n",
    "    ABA_AGUA_NO_ENTU==9 ~ \"No especificó\",))%>%\n",
    "  group_by(ABA_AGUA_NO_ENTU)%>%\n",
    "  summarise(viviendas=survey_total()/1000000,\n",
    "            pct=survey_prop()) %>%\n",
    "  janitor::adorn_totals()\n"
   ]
  },
  {
   "cell_type": "code",
   "execution_count": 33,
   "metadata": {
    "vscode": {
     "languageId": "r"
    }
   },
   "outputs": [
    {
     "name": "stdout",
     "output_type": "stream",
     "text": [
      "Total: 100% (2.7205 viviendas)\n",
      "NA: 99.1157% (2.6964 viviendas)\n",
      "La trae una pipa: 0.59% (0.0161 viviendas)\n",
      "Una llave comunitaria: 0.1231% (0.0034 viviendas)\n",
      "Otra vivienda: 0.0816% (0.0022 viviendas)\n",
      "Un pozo: 0.0757% (0.0021 viviendas)\n",
      "La captan de la lluvia: 0.0081% (0.0002 viviendas)\n",
      "Un río, arroyo o lago: 0.0057% (0.0002 viviendas)\n",
      "Suma de los porcentajes (sin 'No especificó'): 100.8843%\n"
     ]
    }
   ],
   "source": [
    "library(dplyr)\n",
    "library(janitor)\n",
    "library(glue)\n",
    "\n",
    "# Calcular el porcentaje y total de viviendas para cada categoría\n",
    "resultados <- dm %>%\n",
    "  mutate(ABA_AGUA_NO_ENTU = case_when(\n",
    "    ABA_AGUA_NO_ENTU == 1 ~ \"Un pozo\",\n",
    "    ABA_AGUA_NO_ENTU == 2 ~ \"Una llave comunitaria\",\n",
    "    ABA_AGUA_NO_ENTU == 3 ~ \"Otra vivienda\",\n",
    "    ABA_AGUA_NO_ENTU == 4 ~ \"Un río, arroyo o lago\",\n",
    "    ABA_AGUA_NO_ENTU == 5 ~ \"La trae una pipa\",\n",
    "    ABA_AGUA_NO_ENTU == 6 ~ \"La captan de la lluvia\",\n",
    "    ABA_AGUA_NO_ENTU == 9 ~ \"No especificó\"\n",
    "  )) %>%\n",
    "  group_by(ABA_AGUA_NO_ENTU) %>%\n",
    "  summarise(\n",
    "    viviendas = survey_total() / 1000000,  # Total de viviendas\n",
    "    pct = survey_prop()                   # Porcentaje\n",
    "  ) %>%\n",
    "  janitor::adorn_totals()\n",
    "\n",
    "# Verificar si la creación de resultados fue exitosa\n",
    "if (exists(\"resultados\")) {\n",
    "  # Sumar los porcentajes para las fuentes alternativas excluyendo NA\n",
    "  suma_sin_na <- resultados %>%\n",
    "    filter(ABA_AGUA_NO_ENTU != \"No especificó\") %>%\n",
    "    summarise(suma_pct_sin_na = sum(pct, na.rm = TRUE))\n",
    "\n",
    "  # Mostrar los porcentajes individuales de cada categoría con total de viviendas\n",
    "  resultados %>%\n",
    "    mutate(\n",
    "      pct = round(pct * 100, 4),  # Redondear porcentaje\n",
    "      viviendas = round(viviendas, 4),  # Redondear total de viviendas\n",
    "      print_msg = glue(\"{ABA_AGUA_NO_ENTU}: {pct}% ({viviendas} viviendas)\")\n",
    "    ) %>%\n",
    "    arrange(desc(pct)) %>%\n",
    "    pull(print_msg) %>%\n",
    "    walk(print)\n",
    "\n",
    "  # Mostrar el porcentaje acumulado excluyendo \"No especificó\"\n",
    "  print(glue(\"\\nSuma de los porcentajes (sin 'No especificó'): {round(suma_sin_na$suma_pct_sin_na * 100, 4)}%\"))\n",
    "} else {\n",
    "  print(\"No se pudo crear el objeto 'resultados'.\")\n",
    "}\n"
   ]
  },
  {
   "cell_type": "code",
   "execution_count": 34,
   "metadata": {
    "vscode": {
     "languageId": "r"
    }
   },
   "outputs": [
    {
     "data": {
      "text/html": [
       "<table class=\"dataframe\">\n",
       "<caption>A tabyl: 5 × 5</caption>\n",
       "<thead>\n",
       "\t<tr><th scope=col>TINACO</th><th scope=col>viviendas</th><th scope=col>viviendas_se</th><th scope=col>pct</th><th scope=col>pct_se</th></tr>\n",
       "\t<tr><th scope=col>&lt;chr&gt;</th><th scope=col>&lt;dbl&gt;</th><th scope=col>&lt;dbl&gt;</th><th scope=col>&lt;dbl&gt;</th><th scope=col>&lt;dbl&gt;</th></tr>\n",
       "</thead>\n",
       "<tbody>\n",
       "\t<tr><td>No           </td><td>0.4550</td><td>0.0281</td><td>0.16727</td><td>0.00866</td></tr>\n",
       "\t<tr><td>No especificó</td><td>0.0016</td><td>0.0006</td><td>0.00059</td><td>0.00022</td></tr>\n",
       "\t<tr><td>Sí           </td><td>2.2537</td><td>0.0649</td><td>0.82844</td><td>0.00864</td></tr>\n",
       "\t<tr><td>NA           </td><td>0.0101</td><td>0.0019</td><td>0.00371</td><td>0.00071</td></tr>\n",
       "\t<tr><td>Total        </td><td>2.7205</td><td>0.0955</td><td>1.00000</td><td>0.01823</td></tr>\n",
       "</tbody>\n",
       "</table>\n"
      ],
      "text/latex": [
       "A tabyl: 5 × 5\n",
       "\\begin{tabular}{lllll}\n",
       " TINACO & viviendas & viviendas\\_se & pct & pct\\_se\\\\\n",
       " <chr> & <dbl> & <dbl> & <dbl> & <dbl>\\\\\n",
       "\\hline\n",
       "\t No            & 0.4550 & 0.0281 & 0.16727 & 0.00866\\\\\n",
       "\t No especificó & 0.0016 & 0.0006 & 0.00059 & 0.00022\\\\\n",
       "\t Sí            & 2.2537 & 0.0649 & 0.82844 & 0.00864\\\\\n",
       "\t NA            & 0.0101 & 0.0019 & 0.00371 & 0.00071\\\\\n",
       "\t Total         & 2.7205 & 0.0955 & 1.00000 & 0.01823\\\\\n",
       "\\end{tabular}\n"
      ],
      "text/markdown": [
       "\n",
       "A tabyl: 5 × 5\n",
       "\n",
       "| TINACO &lt;chr&gt; | viviendas &lt;dbl&gt; | viviendas_se &lt;dbl&gt; | pct &lt;dbl&gt; | pct_se &lt;dbl&gt; |\n",
       "|---|---|---|---|---|\n",
       "| No            | 0.4550 | 0.0281 | 0.16727 | 0.00866 |\n",
       "| No especificó | 0.0016 | 0.0006 | 0.00059 | 0.00022 |\n",
       "| Sí            | 2.2537 | 0.0649 | 0.82844 | 0.00864 |\n",
       "| NA            | 0.0101 | 0.0019 | 0.00371 | 0.00071 |\n",
       "| Total         | 2.7205 | 0.0955 | 1.00000 | 0.01823 |\n",
       "\n"
      ],
      "text/plain": [
       "  TINACO        viviendas viviendas_se pct     pct_se \n",
       "1 No            0.4550    0.0281       0.16727 0.00866\n",
       "2 No especificó 0.0016    0.0006       0.00059 0.00022\n",
       "3 Sí            2.2537    0.0649       0.82844 0.00864\n",
       "4 NA            0.0101    0.0019       0.00371 0.00071\n",
       "5 Total         2.7205    0.0955       1.00000 0.01823"
      ]
     },
     "metadata": {},
     "output_type": "display_data"
    },
    {
     "name": "stdout",
     "output_type": "stream",
     "text": [
      "[1] \"El 82.84% de las viviendas de la Ciudad de México tienen tinaco\"\n"
     ]
    }
   ],
   "source": [
    "# Pregunta del censo: TINACO\n",
    "\n",
    "#¿En esta vivienda tienen: tinaco?\n",
    "\n",
    "dm%>%\n",
    "  mutate(TINACO=case_when(\n",
    "    TINACO==1 ~ \"Sí\",\n",
    "    TINACO==2 ~ \"No\",\n",
    "    TINACO==9 ~ \"No especificó\",))%>%\n",
    "  group_by(TINACO)%>%\n",
    "  summarise(viviendas=survey_total()/1000000,\n",
    "            pct=survey_prop()) %>%\n",
    "  janitor::adorn_totals()\n",
    "\n",
    "  print(\"El 82.84% de las viviendas de la Ciudad de México tienen tinaco\")"
   ]
  },
  {
   "cell_type": "code",
   "execution_count": 35,
   "metadata": {
    "vscode": {
     "languageId": "r"
    }
   },
   "outputs": [
    {
     "data": {
      "text/html": [
       "<table class=\"dataframe\">\n",
       "<caption>A tabyl: 6 × 5</caption>\n",
       "<thead>\n",
       "\t<tr><th scope=col>CONAGUA</th><th scope=col>viviendas</th><th scope=col>viviendas_se</th><th scope=col>pct</th><th scope=col>pct_se</th></tr>\n",
       "\t<tr><th scope=col>&lt;chr&gt;</th><th scope=col>&lt;dbl&gt;</th><th scope=col>&lt;dbl&gt;</th><th scope=col>&lt;dbl&gt;</th><th scope=col>&lt;dbl&gt;</th></tr>\n",
       "</thead>\n",
       "<tbody>\n",
       "\t<tr><td>Le echan agua con cubeta      </td><td>0.35532</td><td>0.01756</td><td>0.1306</td><td>0.005724</td></tr>\n",
       "\t<tr><td>No especificó                 </td><td>0.00028</td><td>0.00013</td><td>0.0001</td><td>0.000048</td></tr>\n",
       "\t<tr><td>No se le puede echar agua     </td><td>0.00274</td><td>0.00047</td><td>0.0010</td><td>0.000173</td></tr>\n",
       "\t<tr><td>Tiene descarga directa de agua</td><td>2.34629</td><td>0.06962</td><td>0.8625</td><td>0.005836</td></tr>\n",
       "\t<tr><td>NA                            </td><td>0.01583</td><td>0.00204</td><td>0.0058</td><td>0.000747</td></tr>\n",
       "\t<tr><td>Total                         </td><td>2.72046</td><td>0.08983</td><td>1.0000</td><td>0.012529</td></tr>\n",
       "</tbody>\n",
       "</table>\n"
      ],
      "text/latex": [
       "A tabyl: 6 × 5\n",
       "\\begin{tabular}{lllll}\n",
       " CONAGUA & viviendas & viviendas\\_se & pct & pct\\_se\\\\\n",
       " <chr> & <dbl> & <dbl> & <dbl> & <dbl>\\\\\n",
       "\\hline\n",
       "\t Le echan agua con cubeta       & 0.35532 & 0.01756 & 0.1306 & 0.005724\\\\\n",
       "\t No especificó                  & 0.00028 & 0.00013 & 0.0001 & 0.000048\\\\\n",
       "\t No se le puede echar agua      & 0.00274 & 0.00047 & 0.0010 & 0.000173\\\\\n",
       "\t Tiene descarga directa de agua & 2.34629 & 0.06962 & 0.8625 & 0.005836\\\\\n",
       "\t NA                             & 0.01583 & 0.00204 & 0.0058 & 0.000747\\\\\n",
       "\t Total                          & 2.72046 & 0.08983 & 1.0000 & 0.012529\\\\\n",
       "\\end{tabular}\n"
      ],
      "text/markdown": [
       "\n",
       "A tabyl: 6 × 5\n",
       "\n",
       "| CONAGUA &lt;chr&gt; | viviendas &lt;dbl&gt; | viviendas_se &lt;dbl&gt; | pct &lt;dbl&gt; | pct_se &lt;dbl&gt; |\n",
       "|---|---|---|---|---|\n",
       "| Le echan agua con cubeta       | 0.35532 | 0.01756 | 0.1306 | 0.005724 |\n",
       "| No especificó                  | 0.00028 | 0.00013 | 0.0001 | 0.000048 |\n",
       "| No se le puede echar agua      | 0.00274 | 0.00047 | 0.0010 | 0.000173 |\n",
       "| Tiene descarga directa de agua | 2.34629 | 0.06962 | 0.8625 | 0.005836 |\n",
       "| NA                             | 0.01583 | 0.00204 | 0.0058 | 0.000747 |\n",
       "| Total                          | 2.72046 | 0.08983 | 1.0000 | 0.012529 |\n",
       "\n"
      ],
      "text/plain": [
       "  CONAGUA                        viviendas viviendas_se pct    pct_se  \n",
       "1 Le echan agua con cubeta       0.35532   0.01756      0.1306 0.005724\n",
       "2 No especificó                  0.00028   0.00013      0.0001 0.000048\n",
       "3 No se le puede echar agua      0.00274   0.00047      0.0010 0.000173\n",
       "4 Tiene descarga directa de agua 2.34629   0.06962      0.8625 0.005836\n",
       "5 NA                             0.01583   0.00204      0.0058 0.000747\n",
       "6 Total                          2.72046   0.08983      1.0000 0.012529"
      ]
     },
     "metadata": {},
     "output_type": "display_data"
    },
    {
     "name": "stdout",
     "output_type": "stream",
     "text": [
      "[1] \"El 86.25% de las viviendas de la Ciudad de México tienen descarga directa de agua en la taza del baño\"\n"
     ]
    }
   ],
   "source": [
    "# Pregunta del censo: CONAGUA\n",
    "\n",
    "#¿La taza de baño (letrina): tiene descarga directa de agua? le echan agua con cubeta? ¿No se le puede echar agua?\n",
    "\n",
    "dm%>%\n",
    "  mutate(CONAGUA=case_when(\n",
    "    CONAGUA==1 ~ \"Tiene descarga directa de agua\",\n",
    "    CONAGUA==2 ~ \"Le echan agua con cubeta\",\n",
    "    CONAGUA==3 ~ \"No se le puede echar agua\",\n",
    "    CONAGUA==9 ~ \"No especificó\",))%>%\n",
    "  group_by(CONAGUA)%>%\n",
    "  summarise(viviendas=survey_total()/1000000,\n",
    "            pct=survey_prop()) %>%\n",
    "  janitor::adorn_totals()\n",
    "\n",
    "print(\"El 86.25% de las viviendas de la Ciudad de México tienen descarga directa de agua en la taza del baño\")"
   ]
  },
  {
   "cell_type": "code",
   "execution_count": 36,
   "metadata": {
    "vscode": {
     "languageId": "r"
    }
   },
   "outputs": [
    {
     "data": {
      "text/html": [
       "<table class=\"dataframe\">\n",
       "<caption>A tabyl: 8 × 5</caption>\n",
       "<thead>\n",
       "\t<tr><th scope=col>DRENAJE</th><th scope=col>viviendas</th><th scope=col>viviendas_se</th><th scope=col>pct</th><th scope=col>pct_se</th></tr>\n",
       "\t<tr><th scope=col>&lt;chr&gt;</th><th scope=col>&lt;dbl&gt;</th><th scope=col>&lt;dbl&gt;</th><th scope=col>&lt;dbl&gt;</th><th scope=col>&lt;dbl&gt;</th></tr>\n",
       "</thead>\n",
       "<tbody>\n",
       "\t<tr><td>La red pública                                  </td><td>2.56051</td><td>0.07476</td><td>0.94121</td><td>0.004987</td></tr>\n",
       "\t<tr><td>No especificado                                 </td><td>0.00065</td><td>0.00036</td><td>0.00024</td><td>0.000131</td></tr>\n",
       "\t<tr><td>No tiene drenaje                                </td><td>0.00430</td><td>0.00062</td><td>0.00158</td><td>0.000227</td></tr>\n",
       "\t<tr><td>Una fosa séptica o tanque séptico (biodigestor) </td><td>0.13628</td><td>0.01325</td><td>0.05009</td><td>0.004802</td></tr>\n",
       "\t<tr><td>Una tubería que va a dar a un río, lago o mar   </td><td>0.00038</td><td>0.00014</td><td>0.00014</td><td>0.000051</td></tr>\n",
       "\t<tr><td>Una tubería que va a dar a una barranca o grieta</td><td>0.00826</td><td>0.00163</td><td>0.00304</td><td>0.000600</td></tr>\n",
       "\t<tr><td>NA                                              </td><td>0.01008</td><td>0.00194</td><td>0.00371</td><td>0.000712</td></tr>\n",
       "\t<tr><td>Total                                           </td><td>2.72046</td><td>0.09269</td><td>1.00000</td><td>0.011510</td></tr>\n",
       "</tbody>\n",
       "</table>\n"
      ],
      "text/latex": [
       "A tabyl: 8 × 5\n",
       "\\begin{tabular}{lllll}\n",
       " DRENAJE & viviendas & viviendas\\_se & pct & pct\\_se\\\\\n",
       " <chr> & <dbl> & <dbl> & <dbl> & <dbl>\\\\\n",
       "\\hline\n",
       "\t La red pública                                   & 2.56051 & 0.07476 & 0.94121 & 0.004987\\\\\n",
       "\t No especificado                                  & 0.00065 & 0.00036 & 0.00024 & 0.000131\\\\\n",
       "\t No tiene drenaje                                 & 0.00430 & 0.00062 & 0.00158 & 0.000227\\\\\n",
       "\t Una fosa séptica o tanque séptico (biodigestor)  & 0.13628 & 0.01325 & 0.05009 & 0.004802\\\\\n",
       "\t Una tubería que va a dar a un río, lago o mar    & 0.00038 & 0.00014 & 0.00014 & 0.000051\\\\\n",
       "\t Una tubería que va a dar a una barranca o grieta & 0.00826 & 0.00163 & 0.00304 & 0.000600\\\\\n",
       "\t NA                                               & 0.01008 & 0.00194 & 0.00371 & 0.000712\\\\\n",
       "\t Total                                            & 2.72046 & 0.09269 & 1.00000 & 0.011510\\\\\n",
       "\\end{tabular}\n"
      ],
      "text/markdown": [
       "\n",
       "A tabyl: 8 × 5\n",
       "\n",
       "| DRENAJE &lt;chr&gt; | viviendas &lt;dbl&gt; | viviendas_se &lt;dbl&gt; | pct &lt;dbl&gt; | pct_se &lt;dbl&gt; |\n",
       "|---|---|---|---|---|\n",
       "| La red pública                                   | 2.56051 | 0.07476 | 0.94121 | 0.004987 |\n",
       "| No especificado                                  | 0.00065 | 0.00036 | 0.00024 | 0.000131 |\n",
       "| No tiene drenaje                                 | 0.00430 | 0.00062 | 0.00158 | 0.000227 |\n",
       "| Una fosa séptica o tanque séptico (biodigestor)  | 0.13628 | 0.01325 | 0.05009 | 0.004802 |\n",
       "| Una tubería que va a dar a un río, lago o mar    | 0.00038 | 0.00014 | 0.00014 | 0.000051 |\n",
       "| Una tubería que va a dar a una barranca o grieta | 0.00826 | 0.00163 | 0.00304 | 0.000600 |\n",
       "| NA                                               | 0.01008 | 0.00194 | 0.00371 | 0.000712 |\n",
       "| Total                                            | 2.72046 | 0.09269 | 1.00000 | 0.011510 |\n",
       "\n"
      ],
      "text/plain": [
       "  DRENAJE                                          viviendas viviendas_se\n",
       "1 La red pública                                   2.56051   0.07476     \n",
       "2 No especificado                                  0.00065   0.00036     \n",
       "3 No tiene drenaje                                 0.00430   0.00062     \n",
       "4 Una fosa séptica o tanque séptico (biodigestor)  0.13628   0.01325     \n",
       "5 Una tubería que va a dar a un río, lago o mar    0.00038   0.00014     \n",
       "6 Una tubería que va a dar a una barranca o grieta 0.00826   0.00163     \n",
       "7 NA                                               0.01008   0.00194     \n",
       "8 Total                                            2.72046   0.09269     \n",
       "  pct     pct_se  \n",
       "1 0.94121 0.004987\n",
       "2 0.00024 0.000131\n",
       "3 0.00158 0.000227\n",
       "4 0.05009 0.004802\n",
       "5 0.00014 0.000051\n",
       "6 0.00304 0.000600\n",
       "7 0.00371 0.000712\n",
       "8 1.00000 0.011510"
      ]
     },
     "metadata": {},
     "output_type": "display_data"
    },
    {
     "name": "stdout",
     "output_type": "stream",
     "text": [
      "[1] \"El 94.12% de las viviendas de la Ciudad de México tienen drenaje a la red pública\"\n"
     ]
    }
   ],
   "source": [
    "# Pregunta del censo: DRENAJE\n",
    "\n",
    "#¿Esta vivienda tiene drenaje o desagüe conectado a: la red pública? una fosa séptica o \n",
    "#tanque séptico (biodigestor)? una tubería que va a dar a una barranca o grieta? \n",
    "#una tubería que va a dar a un río, lago o mar? ¿No tiene drenaje?\n",
    "\n",
    "dm%>%\n",
    "  mutate(DRENAJE=case_when(\n",
    "    DRENAJE==1 ~ \"La red pública\",\n",
    "    DRENAJE==2 ~ \"Una fosa séptica o tanque séptico (biodigestor)\",\n",
    "    DRENAJE==3 ~ \"Una tubería que va a dar a una barranca o grieta\",\n",
    "    DRENAJE==4 ~ \"Una tubería que va a dar a un río, lago o mar\",\n",
    "    DRENAJE==5 ~ \"No tiene drenaje\",\n",
    "    DRENAJE==9 ~ \"No especificado\",))%>%\n",
    "  group_by(DRENAJE)%>%\n",
    "  summarise(viviendas=survey_total()/1000000,\n",
    "            pct=survey_prop()) %>%\n",
    "  janitor::adorn_totals()\n",
    "\n",
    "print(\"El 94.12% de las viviendas de la Ciudad de México tienen drenaje a la red pública\")"
   ]
  }
 ],
 "metadata": {
  "kernelspec": {
   "display_name": "R",
   "language": "R",
   "name": "ir"
  },
  "language_info": {
   "codemirror_mode": "r",
   "file_extension": ".r",
   "mimetype": "text/x-r-source",
   "name": "R",
   "pygments_lexer": "r",
   "version": "4.4.0"
  }
 },
 "nbformat": 4,
 "nbformat_minor": 2
}
